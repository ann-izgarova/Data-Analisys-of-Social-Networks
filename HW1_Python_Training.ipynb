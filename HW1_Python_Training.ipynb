{
 "cells": [
  {
   "cell_type": "markdown",
   "metadata": {
    "id": "_2DyrlRJTrNj"
   },
   "source": [
    "# Типы данных Python"
   ]
  },
  {
   "cell_type": "markdown",
   "metadata": {
    "id": "jYob5NObVncq"
   },
   "source": [
    "## Числа"
   ]
  },
  {
   "cell_type": "code",
   "execution_count": 1,
   "metadata": {
    "colab": {
     "base_uri": "https://localhost:8080/"
    },
    "id": "sWZ-jym3Uiix",
    "outputId": "992eaf13-e3c2-4398-cae0-3415e0604a6f"
   },
   "outputs": [
    {
     "name": "stdout",
     "output_type": "stream",
     "text": [
      "15.5  сложение\n",
      "52.5  умножение\n",
      "25  возведение в степень\n",
      "2.1  деление\n",
      "2.0  деление (целая часть)\n",
      "0.5  деление (дробная часть)\n"
     ]
    }
   ],
   "source": [
    "a = 5\n",
    "b = 10.5\n",
    "\n",
    "#сложение\n",
    "print(a+b, ' сложение')\n",
    "\n",
    "#умножение\n",
    "print(a*b, ' умножение')\n",
    "\n",
    "#возведение в степень\n",
    "print(a**2, ' возведение в степень')\n",
    "\n",
    "#деление\n",
    "print(b/a, ' деление')\n",
    "\n",
    "#деление (целая часть)\n",
    "print(b//a, ' деление (целая часть)')\n",
    "\n",
    "#деление (дробная часть)\n",
    "print(b%a, ' деление (дробная часть)')"
   ]
  },
  {
   "cell_type": "markdown",
   "metadata": {
    "id": "FvatOQcmVrby"
   },
   "source": [
    "## Строки"
   ]
  },
  {
   "cell_type": "markdown",
   "metadata": {
    "id": "8umyZ6GKW55j"
   },
   "source": [
    "Строки (string) — это последовательности символов"
   ]
  },
  {
   "cell_type": "code",
   "execution_count": 2,
   "metadata": {
    "colab": {
     "base_uri": "https://localhost:8080/"
    },
    "id": "fOLsuBaqVLTK",
    "outputId": "566d1313-c881-4596-f75f-a4c446959350"
   },
   "outputs": [
    {
     "name": "stdout",
     "output_type": "stream",
     "text": [
      "конкатенация: котопес\n",
      "длина строки: 7\n",
      "первый символ строки: к\n",
      "последний символ строки: с\n",
      "срез строки: кот\n"
     ]
    }
   ],
   "source": [
    "first_str = 'кот'\n",
    "second_str = 'пес'\n",
    "\n",
    "#конкатенация строк\n",
    "some_string = first_str + 'о' + second_str\n",
    "print('конкатенация:', some_string)\n",
    "\n",
    "#длина строки\n",
    "length = len(some_string)\n",
    "print('длина строки:', length)\n",
    "\n",
    "#первый символ строки\n",
    "first_symbol = some_string[0]\n",
    "print('первый символ строки:', first_symbol)\n",
    "\n",
    "#последний символ строки\n",
    "last_symbol = some_string[-1]\n",
    "print('последний символ строки:', last_symbol)\n",
    "\n",
    "#срез строки с первого по третий символ\n",
    "cat_slice = some_string[0:3]\n",
    "print('срез строки:', cat_slice)"
   ]
  },
  {
   "cell_type": "markdown",
   "metadata": {
    "id": "-qVkx4KNWvci"
   },
   "source": [
    "## Списки"
   ]
  },
  {
   "cell_type": "markdown",
   "metadata": {
    "id": "KyImlpIqW-bS"
   },
   "source": [
    "Список (list) — это упорядоченная коллекция объектов. Списки могут иметь сколько угодно уровней вложенности и хранить неограниченное количество объектов. Кроме того, в одном списке могут одновременно храниться объекты разных типов."
   ]
  },
  {
   "cell_type": "markdown",
   "metadata": {
    "id": "tOp5tWssXiri"
   },
   "source": [
    "Над списками можно производить те же операции, что и над строками:"
   ]
  },
  {
   "cell_type": "code",
   "execution_count": 3,
   "metadata": {
    "colab": {
     "base_uri": "https://localhost:8080/"
    },
    "id": "4DyDg5UZWxUz",
    "outputId": "60aa30a8-7829-4729-9f05-6122d84c3867"
   },
   "outputs": [
    {
     "name": "stdout",
     "output_type": "stream",
     "text": [
      "первый символ списка: к\n"
     ]
    }
   ],
   "source": [
    "some_list = ['к', 'о', 'т', 'о', 'п', 'е', 'с', 2]\n",
    "\n",
    "#первый символ списка\n",
    "first_list_symbol = some_list[0]\n",
    "print('первый символ списка:', first_list_symbol)"
   ]
  },
  {
   "cell_type": "code",
   "execution_count": 4,
   "metadata": {
    "colab": {
     "base_uri": "https://localhost:8080/"
    },
    "id": "iGkTH40uXK1B",
    "outputId": "5ca92f86-fbce-4556-f377-bed5fdc8d71b"
   },
   "outputs": [
    {
     "name": "stdout",
     "output_type": "stream",
     "text": [
      "['к', 'о', 'т', 'о', 'п', 'е', 'с', 2, '!']\n",
      "['к', 'о', 'т', 'о', 'п', 'е', 'с', '!']\n",
      "['!', 'е', 'к', 'о', 'о', 'п', 'с', 'т']\n"
     ]
    }
   ],
   "source": [
    "#методы списков\n",
    "\n",
    "#добавить новый элемент в конец списка\n",
    "some_list.append('!')\n",
    "print(some_list)\n",
    "\n",
    "#удалить элемент с индексом 7\n",
    "some_list.pop(7)\n",
    "print(some_list)\n",
    "\n",
    "#отсортировать элементы списка в порядке возрастания\n",
    "some_list.sort()\n",
    "print(some_list)"
   ]
  },
  {
   "cell_type": "markdown",
   "metadata": {
    "id": "DJntxeYFYCgE"
   },
   "source": [
    "## Также есть словари и кортеджи"
   ]
  },
  {
   "cell_type": "code",
   "execution_count": null,
   "metadata": {
    "id": "ssO67rqFYGwy"
   },
   "outputs": [],
   "source": []
  },
  {
   "cell_type": "markdown",
   "metadata": {
    "id": "7uL9TjJXYWAb"
   },
   "source": [
    "# Условия в Python"
   ]
  },
  {
   "cell_type": "code",
   "execution_count": 5,
   "metadata": {
    "id": "1wrwAYl_YrQ7"
   },
   "outputs": [],
   "source": [
    "a = 1\n",
    "b = 5\n",
    "c = 6"
   ]
  },
  {
   "cell_type": "code",
   "execution_count": 6,
   "metadata": {
    "colab": {
     "base_uri": "https://localhost:8080/"
    },
    "id": "w8IXT2ecYZIT",
    "outputId": "b7cc4df4-4321-4e1b-e4cc-ca0e4960d384"
   },
   "outputs": [
    {
     "name": "stdout",
     "output_type": "stream",
     "text": [
      "Да\n"
     ]
    }
   ],
   "source": [
    "if a+b == c:\n",
    "  print('Да')\n",
    "else:\n",
    "  print('Нет')"
   ]
  },
  {
   "cell_type": "code",
   "execution_count": 7,
   "metadata": {
    "colab": {
     "base_uri": "https://localhost:8080/"
    },
    "id": "m2sQib6ZY_1z",
    "outputId": "177deb4a-a3e8-4789-abad-0f8c80f8028c"
   },
   "outputs": [
    {
     "name": "stdout",
     "output_type": "stream",
     "text": [
      "a меньше b\n",
      "это правильно\n",
      "код выполнен\n"
     ]
    }
   ],
   "source": [
    "if a>b:\n",
    "  print('a больше b')\n",
    "elif a<b:\n",
    "  print('a меньше b')\n",
    "  print('это правильно')\n",
    "else:\n",
    "  print('a равно b')\n",
    "print('код выполнен')"
   ]
  },
  {
   "cell_type": "code",
   "execution_count": 8,
   "metadata": {
    "id": "7ldoEZMlZRuq"
   },
   "outputs": [
    {
     "data": {
      "text/plain": [
       "\"\\nif a>b:\\n  print('a больше b')\\nelse:\\n  if a<b:\\n    print('a меньше b')\\n  else:\\n    print('a равно b')\\n\""
      ]
     },
     "execution_count": 8,
     "metadata": {},
     "output_type": "execute_result"
    }
   ],
   "source": [
    "#альтернативное выполнение предыдущего кода\n",
    "'''\n",
    "if a>b:\n",
    "  print('a больше b')\n",
    "else:\n",
    "  if a<b:\n",
    "    print('a меньше b')\n",
    "  else:\n",
    "    print('a равно b')\n",
    "'''"
   ]
  },
  {
   "cell_type": "markdown",
   "metadata": {
    "id": "FHm7S99kaRfU"
   },
   "source": [
    "# Циклы в Python"
   ]
  },
  {
   "cell_type": "markdown",
   "metadata": {
    "id": "H0OxrB2xadc7"
   },
   "source": [
    "## while"
   ]
  },
  {
   "cell_type": "markdown",
   "metadata": {
    "id": "-3bvlyBWa3UD"
   },
   "source": [
    "While выполняется до тех пор, пока выполняется условие"
   ]
  },
  {
   "cell_type": "code",
   "execution_count": 9,
   "metadata": {
    "colab": {
     "base_uri": "https://localhost:8080/"
    },
    "id": "0q8KfVgkaTib",
    "outputId": "de2f570b-cc57-43a5-e479-d03fcf57dfff"
   },
   "outputs": [
    {
     "name": "stdout",
     "output_type": "stream",
     "text": [
      "0\n",
      "1\n",
      "2\n",
      "3\n"
     ]
    }
   ],
   "source": [
    "a = 0\n",
    "while a <= 3:\n",
    "  print(a)\n",
    "  a += 1 #a = a + 1"
   ]
  },
  {
   "cell_type": "markdown",
   "metadata": {
    "id": "CgEs_V4Xb8xT"
   },
   "source": [
    "## Операторы циклов"
   ]
  },
  {
   "cell_type": "markdown",
   "metadata": {
    "id": "GwiyqlOJcB-j"
   },
   "source": [
    "break - оператор досрочного завершения цикла"
   ]
  },
  {
   "cell_type": "code",
   "execution_count": 10,
   "metadata": {
    "colab": {
     "base_uri": "https://localhost:8080/"
    },
    "id": "-vah0GiRcAQx",
    "outputId": "7df3d00d-bd55-4234-99dd-b1a357b106ee"
   },
   "outputs": [
    {
     "name": "stdout",
     "output_type": "stream",
     "text": [
      "5\n",
      "4\n",
      "3\n"
     ]
    }
   ],
   "source": [
    "a = 5\n",
    "while a>0:\n",
    "  print(a)\n",
    "  if a**2 == 9:\n",
    "    break\n",
    "  a -= 1"
   ]
  },
  {
   "cell_type": "code",
   "execution_count": 11,
   "metadata": {
    "colab": {
     "base_uri": "https://localhost:8080/"
    },
    "id": "Eiiln8-Ogdac",
    "outputId": "2de0d291-5f36-4dd1-e39a-5cf7772860a8"
   },
   "outputs": [
    {
     "name": "stdout",
     "output_type": "stream",
     "text": [
      "5\n",
      "4\n"
     ]
    }
   ],
   "source": [
    "a = 5\n",
    "while a>0:\n",
    "  if a**2 == 9:\n",
    "    break\n",
    "  print(a)\n",
    "  a -= 1"
   ]
  },
  {
   "cell_type": "markdown",
   "metadata": {
    "id": "bksSnohuceCz"
   },
   "source": [
    "continue - оператор перехода к следующей итерации"
   ]
  },
  {
   "cell_type": "code",
   "execution_count": 12,
   "metadata": {
    "colab": {
     "base_uri": "https://localhost:8080/"
    },
    "id": "arK-oueGcjXb",
    "outputId": "b34f9b2d-3567-4964-a46f-a0690304c4b6"
   },
   "outputs": [
    {
     "name": "stdout",
     "output_type": "stream",
     "text": [
      "4\n",
      "2\n",
      "1\n",
      "0\n"
     ]
    }
   ],
   "source": [
    "a = 5\n",
    "while a>0:\n",
    "  a -= 1\n",
    "  if a**2 == 9:\n",
    "    continue\n",
    "  print(a)"
   ]
  },
  {
   "cell_type": "markdown",
   "metadata": {
    "id": "3XXWhsmTg0IM"
   },
   "source": [
    "## Цикл for"
   ]
  },
  {
   "cell_type": "markdown",
   "metadata": {
    "id": "2lBEBqrYhrDl"
   },
   "source": [
    "for - Повторяет действия определенное количество раз"
   ]
  },
  {
   "cell_type": "code",
   "execution_count": 13,
   "metadata": {
    "colab": {
     "base_uri": "https://localhost:8080/"
    },
    "id": "DGEU-GKQg4Yr",
    "outputId": "fdf4cba2-0c15-441a-d0ac-7caac9c7d468"
   },
   "outputs": [
    {
     "name": "stdout",
     "output_type": "stream",
     "text": [
      "2\n",
      "3\n",
      "4\n"
     ]
    }
   ],
   "source": [
    "for i in 1,2,3:\n",
    "  print(i + 1)"
   ]
  },
  {
   "cell_type": "markdown",
   "metadata": {
    "id": "YZ4uopYoh33d"
   },
   "source": [
    "range - функция, возвращающая последовательность от start (вкл) до end (не вкл) с шагом step: (start, end, step)"
   ]
  },
  {
   "cell_type": "code",
   "execution_count": 14,
   "metadata": {
    "colab": {
     "base_uri": "https://localhost:8080/"
    },
    "id": "UB6F4rlrh07T",
    "outputId": "04a15fa0-930f-4d32-cc18-8aa0efb4c646"
   },
   "outputs": [
    {
     "name": "stdout",
     "output_type": "stream",
     "text": [
      "2\n",
      "3\n",
      "4\n"
     ]
    }
   ],
   "source": [
    "for i in range(1, 4, 1):\n",
    "  print(i + 1)"
   ]
  },
  {
   "cell_type": "code",
   "execution_count": 15,
   "metadata": {
    "colab": {
     "base_uri": "https://localhost:8080/"
    },
    "id": "Wx6j55ZiiW1M",
    "outputId": "df59e85b-b3d5-4d19-bcdf-1e47dd7154e3"
   },
   "outputs": [
    {
     "name": "stdout",
     "output_type": "stream",
     "text": [
      "к\n",
      "о\n",
      "т\n"
     ]
    }
   ],
   "source": [
    "string_ex = 'кот'\n",
    "for i in string_ex:\n",
    "  print(i)"
   ]
  },
  {
   "cell_type": "code",
   "execution_count": 16,
   "metadata": {
    "colab": {
     "base_uri": "https://localhost:8080/"
    },
    "id": "KQ_QyeGmif8D",
    "outputId": "d742517e-0b08-4ffe-e701-a025c67e8c5f"
   },
   "outputs": [
    {
     "name": "stdout",
     "output_type": "stream",
     "text": [
      "[1, 2]\n",
      "[3, 4]\n",
      "[5, 6]\n"
     ]
    }
   ],
   "source": [
    "list_ex = [[1, 2], [3, 4], [5, 6]]\n",
    "for i in list_ex:\n",
    "  print(i)"
   ]
  },
  {
   "cell_type": "code",
   "execution_count": null,
   "metadata": {
    "id": "JSa76jchitub"
   },
   "outputs": [],
   "source": []
  },
  {
   "cell_type": "markdown",
   "metadata": {
    "id": "m5ziiEL7i3OU"
   },
   "source": [
    "# Домашнее задание"
   ]
  },
  {
   "cell_type": "markdown",
   "metadata": {
    "id": "KYKot7bGi-Gs"
   },
   "source": [
    "1. Задать 3 буквы. Вывести букву, которая стоит дальше всех в алфавите\n",
    "2. Задать число от 1 до 12. Это будет номер месяца. Вывести какое время года включает даный месяц.\n",
    "3. Задать 3 числа. Вывести yes если все числа больше 10. Если условие не выполняется, то вывести числа в порядке убывания.\n",
    "4. Вывести квадрат всех четных чисел до 10.\n",
    "5. Задать список чисел. Вывести сумму всех чисел\n",
    "6. Задать небольшое предложение со знаками пунктуаций. Вывести номера позиций в тексте (номер символа), где находятся запятые ',' и точки '.'"
   ]
  },
  {
   "cell_type": "markdown",
   "metadata": {},
   "source": [
    "1. Задать 3 буквы. Вывести букву, которая стоит дальше всех в алфавите"
   ]
  },
  {
   "cell_type": "code",
   "execution_count": 26,
   "metadata": {
    "id": "DFXQ7Icbj3Ls"
   },
   "outputs": [
    {
     "name": "stdout",
     "output_type": "stream",
     "text": [
      "w\n"
     ]
    }
   ],
   "source": [
    "letters = ['s', 'h', 'w']\n",
    "max_ord = 0\n",
    "for letter in letters:\n",
    "    if ord(letter) > max_ord:\n",
    "        max_ord = ord(letter)\n",
    "print(chr(max_ord))"
   ]
  },
  {
   "cell_type": "markdown",
   "metadata": {},
   "source": [
    "2. Задать число от 1 до 12. Это будет номер месяца. Вывести какое время года включает даный месяц."
   ]
  },
  {
   "cell_type": "code",
   "execution_count": 3,
   "metadata": {},
   "outputs": [
    {
     "name": "stdout",
     "output_type": "stream",
     "text": [
      "Лето\n"
     ]
    }
   ],
   "source": [
    "num = 6\n",
    "\n",
    "if num>=3 and num<=5:\n",
    "    print ('Весна')\n",
    "elif num>=6 and num<=8:\n",
    "    print ('Лето')\n",
    "elif num>=9 and num<=11:\n",
    "    print ('Осень')\n",
    "elif num==12 or num<=2:\n",
    "    print ('Зима')"
   ]
  },
  {
   "cell_type": "markdown",
   "metadata": {},
   "source": [
    "3. Задать 3 числа. Вывести yes если все числа больше 10. Если условие не выполняется, то вывести числа в порядке убывания."
   ]
  },
  {
   "cell_type": "code",
   "execution_count": 11,
   "metadata": {},
   "outputs": [
    {
     "name": "stdout",
     "output_type": "stream",
     "text": [
      "[1, 100, 233.18]\n"
     ]
    }
   ],
   "source": [
    "n1 = 1\n",
    "n2 = 100\n",
    "n3 = 233.18\n",
    "\n",
    "if min(n1, n1, n3)>10:\n",
    "    print('yes')\n",
    "else:\n",
    "    print(sorted([n1, n2, n3]))"
   ]
  },
  {
   "cell_type": "markdown",
   "metadata": {},
   "source": [
    "4. Вывести квадрат всех четных чисел до 10."
   ]
  },
  {
   "cell_type": "code",
   "execution_count": 23,
   "metadata": {},
   "outputs": [
    {
     "data": {
      "text/plain": [
       "[0, 4, 16, 36, 64]"
      ]
     },
     "execution_count": 23,
     "metadata": {},
     "output_type": "execute_result"
    }
   ],
   "source": [
    "even_10 = list(range(0, 10,2))\n",
    "[num**2 for num in even_10]"
   ]
  },
  {
   "cell_type": "markdown",
   "metadata": {},
   "source": [
    "5. Задать список чисел. Вывести сумму всех чисел"
   ]
  },
  {
   "cell_type": "code",
   "execution_count": 25,
   "metadata": {},
   "outputs": [
    {
     "data": {
      "text/plain": [
       "149"
      ]
     },
     "execution_count": 25,
     "metadata": {},
     "output_type": "execute_result"
    }
   ],
   "source": [
    "num_list = [10, 3, 15, 82, 39]\n",
    "sum(num_list)"
   ]
  },
  {
   "cell_type": "markdown",
   "metadata": {},
   "source": [
    "6. Задать небольшое предложение со знаками пунктуаций. Вывести номера позиций в тексте (номер символа), где находятся запятые ',' и точки '.'"
   ]
  },
  {
   "cell_type": "code",
   "execution_count": 56,
   "metadata": {},
   "outputs": [
    {
     "name": "stdout",
     "output_type": "stream",
     "text": [
      "62\n",
      "126\n",
      "201\n"
     ]
    }
   ],
   "source": [
    "sentence = \"\"\"Книга предназначена для пользователей систем бизнес-аналитики, а также \n",
    "специалистов и разработчиков в области анализа данных, желающих повысить \n",
    "квалификацию и расширить навыки использования Power BI.\"\"\"\n",
    "letter_index = 0 \n",
    "sentence = list(sentence)\n",
    "for letter in sentence:\n",
    "    letter_index +=1\n",
    "    if letter == '.' or letter == ',':\n",
    "        print(letter_index)"
   ]
  }
 ],
 "metadata": {
  "colab": {
   "collapsed_sections": [
    "_2DyrlRJTrNj",
    "jYob5NObVncq",
    "FvatOQcmVrby",
    "-qVkx4KNWvci",
    "DJntxeYFYCgE",
    "7uL9TjJXYWAb",
    "FHm7S99kaRfU",
    "H0OxrB2xadc7",
    "CgEs_V4Xb8xT",
    "3XXWhsmTg0IM"
   ],
   "provenance": []
  },
  "kernelspec": {
   "display_name": "Python 3 (ipykernel)",
   "language": "python",
   "name": "python3"
  },
  "language_info": {
   "codemirror_mode": {
    "name": "ipython",
    "version": 3
   },
   "file_extension": ".py",
   "mimetype": "text/x-python",
   "name": "python",
   "nbconvert_exporter": "python",
   "pygments_lexer": "ipython3",
   "version": "3.9.12"
  }
 },
 "nbformat": 4,
 "nbformat_minor": 1
}
